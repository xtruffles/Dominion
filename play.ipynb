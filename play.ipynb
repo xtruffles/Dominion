{
  "nbformat": 4,
  "nbformat_minor": 0,
  "metadata": {
    "colab": {
      "name": "play.ipynb",
      "provenance": []
    },
    "kernelspec": {
      "name": "python3",
      "display_name": "Python 3"
    }
  },
  "cells": [
    {
      "cell_type": "code",
      "metadata": {
        "id": "OocTo829m75I",
        "colab_type": "code",
        "colab": {}
      },
      "source": [
        "def spool_no_discard(hand, deck, discard):\n",
        "  if 'C' in deck: # draw everything up to the copper\n",
        "    copper = deck.index('C')\n",
        "    return hand+deck[0:copper], deck[copper+1:], discard\n",
        "  else:\n",
        "    if discard == []:\n",
        "      return hand+deck, [], []\n",
        "    # shuffle the discard and draw into it\n",
        "    discard = randomize(discard)\n",
        "    # play spool on the remaining discard\n",
        "    discard_draw, discard_remaining, discard = spool_no_discard([], discard, [])\n",
        "    return hand+deck+discard_draw, discard_remaining, []\n",
        "\n",
        "def spool(hand, deck, discard):\n",
        "  if deck[0] == 'C':\n",
        "    # add copper to the discard and play pool on the rest\n",
        "    return spool_no_discard(hand, deck[1:], discard+['C'])\n",
        "  else:\n",
        "    return spool_no_discard(hand, deck, discard)\n",
        "\n",
        "def cantrip(hand, deck, discard, size):\n",
        "  if len(deck) >= size:\n",
        "    return hand+deck[0:size], deck[size:], discard \n",
        "  # have to draw into discard\n",
        "  if discard == []:\n",
        "    return hand+deck, [], [] \n",
        "  discard = randomize(discard)\n",
        "  deck = deck+discard\n",
        "  return hand + deck[0:size], deck[size:], []\n",
        "\n",
        "def lab(hand, deck, discard):\n",
        "  return cantrip(hand, deck, discard, 2)\n",
        "\n",
        "def village(hand, deck, discard):\n",
        "  return cantrip(hand, deck, discard, 1)\n",
        "\n"
      ],
      "execution_count": 0,
      "outputs": []
    }
  ]
}