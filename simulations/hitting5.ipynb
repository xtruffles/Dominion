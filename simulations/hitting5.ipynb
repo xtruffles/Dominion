{
  "nbformat": 4,
  "nbformat_minor": 0,
  "metadata": {
    "colab": {
      "name": "hitting5.ipynb",
      "provenance": [],
      "include_colab_link": true
    },
    "kernelspec": {
      "name": "python3",
      "display_name": "Python 3"
    }
  },
  "cells": [
    {
      "cell_type": "markdown",
      "metadata": {
        "id": "view-in-github",
        "colab_type": "text"
      },
      "source": [
        "<a href=\"https://colab.research.google.com/github/xtruffles/Dominion/blob/master/simulations/hitting5.ipynb\" target=\"_parent\"><img src=\"https://colab.research.google.com/assets/colab-badge.svg\" alt=\"Open In Colab\"/></a>"
      ]
    },
    {
      "cell_type": "code",
      "metadata": {
        "id": "8MzK1IviesL3",
        "colab_type": "code",
        "outputId": "94fde3c7-e420-4d50-bc22-c77d8947ee1a",
        "colab": {
          "base_uri": "https://localhost:8080/",
          "height": 85
        }
      },
      "source": [
        "import numpy as np\n",
        "\n",
        "def inventor_silver(cards):\n",
        "  if np.sum(cards[0:5]) >= 5 or np.sum(cards[5:10]) >=5:\n",
        "    return True\n",
        "  return False\n",
        "\n",
        "def diplo_silver(cards):\n",
        "  if 3 in cards[0:5]:\n",
        "    if np.sum(cards[0:7])-3 >=5 or np.sum(cards[7:12]) >= 5:\n",
        "      return True\n",
        "  elif np.sum(cards[0:5]) >= 5:\n",
        "    return True\n",
        "  elif 3 in cards[5:10] and (np.sum(cards[5:12])-3 >=5):\n",
        "    return True\n",
        "  return False\n",
        "\n",
        "def diplo_silver_4_5(cards):\n",
        "  if 3 in cards[0:5]:\n",
        "    if np.sum(cards[0:7])-3 >=5 and np.sum(cards[7:12]) >= 4:\n",
        "      return True\n",
        "    elif np.sum(cards[0:7])-3 >=4 and np.sum(cards[7:12])>=5:\n",
        "      return True\n",
        "  elif 3 in cards[5:10]:\n",
        "    if np.sum(cards[0:5]) >= 5 and np.sum(cards[5:12])-3 >= 4:\n",
        "      return True\n",
        "    elif np.sum(cards[0:5]) >= 4 and np.sum(cards[5:12])-3 >= 5:\n",
        "      return True \n",
        "  elif np.sum(cards[0:5]) >= 5 and np.sum(cards[5:10]) >= 4:\n",
        "    return True\n",
        "  elif np.sum(cards[0:5]) >= 4 and np.sum(cards[5:10]) >= 5:\n",
        "    return True\n",
        "  return False\n",
        "\n",
        "def silver_silver(cards):\n",
        "  if np.sum(cards[0:5]) >= 5 or np.sum(cards[5:10]) >= 5:\n",
        "    return True\n",
        "  return False\n",
        "\n",
        "# coppers worth 1 coin\n",
        "# inventor worth \"1\" coin\n",
        "# silver worth 2 coins\n",
        "# estates are worth 0\n",
        "inventor_deck = [1, 1, 1, 1, 1, 1, 1, 1, 2, 0, 0, 0]\n",
        "diplo_deck = [3, 1, 1, 1, 1, 1, 1, 1, 0, 0, 0, 2]\n",
        "silver_deck = [1, 1, 1, 1, 1, 1, 1, 2, 2, 0, 0, 0]\n",
        "\n",
        "trials = 100000\n",
        "inventor_silver_hits = 0 \n",
        "diplo_silver_hits = 0 \n",
        "diplo_silver_4_5_hits = 0 \n",
        "silver_silver_hits = 0\n",
        "for i in range(trials):\n",
        "  inventor_shuffle = np.random.permutation(inventor_deck).tolist()\n",
        "  diplo_shuffle = np.random.permutation(diplo_deck).tolist()\n",
        "  silver_shuffle = np.random.permutation(silver_deck).tolist()\n",
        "  if inventor_silver(inventor_shuffle):\n",
        "    inventor_silver_hits += 1 \n",
        "  if diplo_silver(diplo_shuffle):\n",
        "    diplo_silver_hits += 1\n",
        "  if diplo_silver_4_5(diplo_shuffle):\n",
        "    diplo_silver_4_5_hits += 1\n",
        "  if silver_silver(silver_shuffle):\n",
        "    silver_silver_hits += 1\n",
        "\n",
        "print(\"inventor_silver hitting 5: {}\".format(inventor_silver_hits/trials))\n",
        "print(\"diplo_silver hitting 5: {}\".format(diplo_silver_hits/trials))\n",
        "print(\"diplo_silver_4_5 hitting 4/5: {}\".format(diplo_silver_4_5_hits/trials))\n",
        "print(\"silver_silver hitting 5: {}\".format(silver_silver_hits/trials))"
      ],
      "execution_count": 0,
      "outputs": [
        {
          "output_type": "stream",
          "text": [
            "inventor_silver hitting 5: 0.72093\n",
            "diplo_silver hitting 5: 0.89073\n",
            "diplo_silver_4_5 hitting 4/5: 0.56454\n",
            "silver_silver hitting 5: 0.91031\n"
          ],
          "name": "stdout"
        }
      ]
    }
  ]
}